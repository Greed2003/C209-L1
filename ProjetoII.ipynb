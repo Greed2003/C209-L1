{
 "cells": [
  {
   "cell_type": "code",
   "execution_count": 1,
   "id": "ad21c687",
   "metadata": {},
   "outputs": [],
   "source": [
    "import moviepy.editor as mpe\n",
    "import numpy as np\n",
    "import matplotlib.pyplot as plt\n",
    "from moviepy.editor import VideoFileClip, concatenate_videoclips, vfx"
   ]
  },
  {
   "cell_type": "code",
   "execution_count": 2,
   "id": "4b23a8e6",
   "metadata": {},
   "outputs": [
    {
     "name": "stdout",
     "output_type": "stream",
     "text": [
      "Moviepy - Building video video_final.mp4.\n",
      "MoviePy - Writing audio in video_finalTEMP_MPY_wvf_snd.mp4\n"
     ]
    },
    {
     "name": "stderr",
     "output_type": "stream",
     "text": [
      "                                                                     \r"
     ]
    },
    {
     "name": "stdout",
     "output_type": "stream",
     "text": [
      "MoviePy - Done.\n",
      "Moviepy - Writing video video_final.mp4\n",
      "\n"
     ]
    },
    {
     "name": "stderr",
     "output_type": "stream",
     "text": [
      "                                                                  \r"
     ]
    },
    {
     "name": "stdout",
     "output_type": "stream",
     "text": [
      "Moviepy - Done !\n",
      "Moviepy - video ready video_final.mp4\n"
     ]
    }
   ],
   "source": [
    "# Carrega o vídeo de entrada (certifique-se de que \"video.mp4\" existe no diretório)\n",
    "video = VideoFileClip(\"video.mp4\")\n",
    "\n",
    "# Lista vazia para armazenar os clipes processados\n",
    "clips = []\n",
    "\n",
    "# Loop que divide o vídeo em segmentos de 20 segundos\n",
    "for start in range(0, int(video.duration), 20):\n",
    "    \n",
    "    # Cria um subclipe do vídeo original, indo de 'start' até 'start+20' segundos\n",
    "    # O 'min()' evita que ultrapasse o tempo total do vídeo\n",
    "    clip = video.subclip(start, min(start + 20, video.duration))\n",
    "    \n",
    "    # Verifica se o índice do segmento é ímpar (para inverter a cada 20s)\n",
    "    if (start // 20) % 2 == 1:\n",
    "        \n",
    "        # Aplica o efeito de espelhamento horizontal (inversão no eixo X)\n",
    "        clip = clip.fx(vfx.mirror_x)\n",
    "    \n",
    "    # Adiciona o clipe (modificado ou não) à lista de clipes\n",
    "    clips.append(clip)\n",
    "\n",
    "# Concatena todos os clipes processados em um único vídeo\n",
    "video_inverted = concatenate_videoclips(clips, method=\"compose\")\n",
    "\n",
    "# Exporta o vídeo final com:\n",
    "# - codec de vídeo: libx264 (padrão para MP4)\n",
    "# - codec de áudio: aac (padrão para áudio em MP4)\n",
    "video_inverted.write_videofile(\"video_final.mp4\", codec=\"libx264\", audio_codec=\"aac\")"
   ]
  },
  {
   "cell_type": "code",
   "execution_count": 4,
   "id": "d27eebf7",
   "metadata": {},
   "outputs": [
    {
     "name": "stderr",
     "output_type": "stream",
     "text": [
      "t:  43%|████▎     | 2607/6057 [00:54<00:56, 61.31it/s, now=None]"
     ]
    },
    {
     "name": "stdout",
     "output_type": "stream",
     "text": [
      "Moviepy - Building video video_volume_ciclico.mp4.\n",
      "MoviePy - Writing audio in video_volume_ciclicoTEMP_MPY_wvf_snd.mp4\n"
     ]
    },
    {
     "name": "stderr",
     "output_type": "stream",
     "text": [
      "t:  43%|████▎     | 2607/6057 [01:00<00:56, 61.31it/s, now=None]"
     ]
    },
    {
     "name": "stdout",
     "output_type": "stream",
     "text": [
      "MoviePy - Done.\n",
      "Moviepy - Writing video video_volume_ciclico.mp4\n",
      "\n"
     ]
    },
    {
     "name": "stderr",
     "output_type": "stream",
     "text": [
      "t:  43%|████▎     | 2607/6057 [02:58<00:56, 61.31it/s, now=None]"
     ]
    },
    {
     "name": "stdout",
     "output_type": "stream",
     "text": [
      "Moviepy - Done !\n",
      "Moviepy - video ready video_volume_ciclico.mp4\n"
     ]
    }
   ],
   "source": [
    "# Reduzir o som gradativamente\n",
    "# Carrega o vídeo final processado anteriormente\n",
    "video = VideoFileClip(\"video_final.mp4\")\n",
    "\n",
    "def volume_control(t):\n",
    "    \"\"\"Função que controla o volume em ciclos de 30 segundos:\n",
    "       - Diminui linearmente de 1 (100%) a 0 (0%) nos primeiros 20s\n",
    "       - Mantém em 0 (silêncio) nos últimos 10s de cada ciclo\"\"\"\n",
    "    \n",
    "    # Calcula a posição dentro do ciclo de 30s (0-29.999...)\n",
    "    ciclo_pos = np.mod(t, 30)  # np.mod retorna o resto da divisão por 30\n",
    "    \n",
    "    # Cria um array de zeros com o mesmo formato que 't'\n",
    "    volume = np.zeros_like(ciclo_pos, dtype=float)\n",
    "    \n",
    "    # Cria uma máscara para os tempos <= 20 segundos (parte com áudio)\n",
    "    mask = ciclo_pos <= 20\n",
    "    \n",
    "    # Aplica redução linear: 1 → 0 em 20s (1 - t/20)\n",
    "    volume[mask] = 1 - ciclo_pos[mask] / 20\n",
    "    \n",
    "    return volume  # Retorna os valores de volume para cada instante 't'\n",
    "\n",
    "# Ajusta o volume do áudio (processamento estéreo)\n",
    "audio_adjusted = video.audio.fl(lambda gf, t: \n",
    "    np.column_stack([\n",
    "        # Canal esquerdo: multiplica o sinal original pelo volume controlado\n",
    "        gf(t)[:, 0] * volume_control(t),  \n",
    "        \n",
    "        # Canal direito: mesma operação para o segundo canal\n",
    "        gf(t)[:, 1] * volume_control(t)   \n",
    "    ])\n",
    ")\n",
    "\n",
    "# Atualiza o vídeo com o áudio modificado\n",
    "video = video.set_audio(audio_adjusted)\n",
    "\n",
    "# Salva o vídeo com as configurações otimizadas:\n",
    "video.write_videofile(\n",
    "    \"video_volume_ciclico.mp4\",  # Nome do arquivo de saída\n",
    "    codec=\"libx264\",             # Codec de vídeo (padrão para MP4)\n",
    "    audio_codec=\"aac\",           # Codec de áudio (padrão para MP4)\n",
    "    fps=video.fps,               # Mantém o FPS original\n",
    "    threads= 4                   # Usa 4 threads para codificação mais rápida\n",
    ")"
   ]
  },
  {
   "cell_type": "code",
   "execution_count": 5,
   "id": "09b8a132",
   "metadata": {},
   "outputs": [
    {
     "name": "stderr",
     "output_type": "stream",
     "text": [
      "t:  43%|████▎     | 2607/6057 [03:24<00:56, 61.31it/s, now=None]"
     ]
    },
    {
     "name": "stdout",
     "output_type": "stream",
     "text": [
      "Moviepy - Building video trecho_60_80.mp4.\n",
      "MoviePy - Writing audio in trecho_60_80TEMP_MPY_wvf_snd.mp4\n"
     ]
    },
    {
     "name": "stderr",
     "output_type": "stream",
     "text": [
      "t:  43%|████▎     | 2607/6057 [03:25<00:56, 61.31it/s, now=None]"
     ]
    },
    {
     "name": "stdout",
     "output_type": "stream",
     "text": [
      "MoviePy - Done.\n",
      "Moviepy - Writing video trecho_60_80.mp4\n",
      "\n"
     ]
    },
    {
     "name": "stderr",
     "output_type": "stream",
     "text": [
      "t:  43%|████▎     | 2607/6057 [03:34<00:56, 61.31it/s, now=None]"
     ]
    },
    {
     "name": "stdout",
     "output_type": "stream",
     "text": [
      "Moviepy - Done !\n",
      "Moviepy - video ready trecho_60_80.mp4\n"
     ]
    }
   ],
   "source": [
    "# Cortar o trecho entre 60 e 80 segundos\n",
    "# ------------------------------------------------------------\n",
    "# Carrega o vídeo com o volume já ajustado (\"video_volume_ciclico.mp4\")\n",
    "# Certifique-se de que este arquivo existe no diretório atual\n",
    "video = VideoFileClip(\"video_volume_ciclico.mp4\")\n",
    "\n",
    "# Corta um trecho específico do vídeo:\n",
    "# - Início: 60 segundos (1 minuto)\n",
    "# - Fim: 80 segundos (1 minuto e 20 segundos)\n",
    "# O método subclip cria um novo clip com apenas essa porção\n",
    "trecho_60_80 = video.subclip(60, 80)\n",
    "\n",
    "# Salva o trecho cortado em um novo arquivo MP4:\n",
    "# - \"trecho_60_80.mp4\": nome do arquivo de saída\n",
    "# - codec=\"libx264\": codec de vídeo de alta qualidade\n",
    "# - audio_codec=\"aac\": codec de áudio padrão para MP4\n",
    "# - fps=video.fps: mantém a mesma taxa de quadros do vídeo original\n",
    "trecho_60_80.write_videofile(\n",
    "    \"trecho_60_80.mp4\",\n",
    "    codec=\"libx264\",\n",
    "    audio_codec=\"aac\",\n",
    "    fps=video.fps\n",
    ")"
   ]
  },
  {
   "cell_type": "code",
   "execution_count": 6,
   "id": "d4a0ff57",
   "metadata": {},
   "outputs": [
    {
     "name": "stderr",
     "output_type": "stream",
     "text": [
      "t:  43%|████▎     | 2607/6057 [08:16<00:56, 61.31it/s, now=None]"
     ]
    },
    {
     "name": "stdout",
     "output_type": "stream",
     "text": [
      "Moviepy - Building video video_com_trecho_no_final.mp4.\n",
      "MoviePy - Writing audio in video_com_trecho_no_finalTEMP_MPY_wvf_snd.mp4\n"
     ]
    },
    {
     "name": "stderr",
     "output_type": "stream",
     "text": [
      "t:  43%|████▎     | 2607/6057 [08:21<00:56, 61.31it/s, now=None]"
     ]
    },
    {
     "name": "stdout",
     "output_type": "stream",
     "text": [
      "MoviePy - Done.\n",
      "Moviepy - Writing video video_com_trecho_no_final.mp4\n",
      "\n"
     ]
    },
    {
     "name": "stderr",
     "output_type": "stream",
     "text": [
      "t:  43%|████▎     | 2607/6057 [11:34<00:56, 61.31it/s, now=None]"
     ]
    },
    {
     "name": "stdout",
     "output_type": "stream",
     "text": [
      "Moviepy - Done !\n",
      "Moviepy - video ready video_com_trecho_no_final.mp4\n"
     ]
    }
   ],
   "source": [
    "# Adicionar o trecho cortado ao final do vídeo principal\n",
    "# Carrega o vídeo principal\n",
    "# ATENÇÃO: O arquivo \"vide.mp4\" deve existir na pasta do projeto\n",
    "video_principal = VideoFileClip(\"video_volume_ciclico.mp4\")\n",
    "\n",
    "# Carrega o trecho que será adicionado no final\n",
    "# ATENÇÃO: O arquivo \"tre.mp4\" deve existir na pasta do projeto\n",
    "trecho = VideoFileClip(\"trecho_60_80.mp4\")\n",
    "\n",
    "# Concatena o vídeo principal com o trecho no final\n",
    "# - O método \"compose\" garante que os vídeos com diferentes resoluções sejam compatíveis\n",
    "# - Os vídeos serão unidos na ordem da lista [primeiro o principal, depois o trecho]\n",
    "video_final = concatenate_videoclips(\n",
    "    [video_principal, trecho],  # Lista dos vídeos a serem concatenados\n",
    "    method=\"compose\"            # Método de composição padrão\n",
    ")\n",
    "\n",
    "# Salva o vídeo final com as seguintes configurações:\n",
    "# - Nome do arquivo: \"video_com_trecho_no_final.mp4\"\n",
    "# - Codec de vídeo: libx264 (padrão para arquivos MP4)\n",
    "# - Codec de áudio: aac (padrão para qualidade de áudio)\n",
    "# - Mantém o mesmo FPS (quadros por segundo) do vídeo principal\n",
    "video_final.write_videofile(\n",
    "    \"video_com_trecho_no_final.mp4\",\n",
    "    codec=\"libx264\",            # Codec de vídeo de alta qualidade\n",
    "    audio_codec=\"aac\",          # Codec de áudio padrão\n",
    "    fps=video_principal.fps     # Mantém a fluidez do vídeo original\n",
    ")"
   ]
  }
 ],
 "metadata": {
  "kernelspec": {
   "display_name": ".venv",
   "language": "python",
   "name": "python3"
  },
  "language_info": {
   "codemirror_mode": {
    "name": "ipython",
    "version": 3
   },
   "file_extension": ".py",
   "mimetype": "text/x-python",
   "name": "python",
   "nbconvert_exporter": "python",
   "pygments_lexer": "ipython3",
   "version": "3.11.9"
  }
 },
 "nbformat": 4,
 "nbformat_minor": 5
}
